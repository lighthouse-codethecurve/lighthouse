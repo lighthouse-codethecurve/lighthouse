{
 "cells": [
  {
   "cell_type": "markdown",
   "metadata": {},
   "source": [
    "# 可汗学院的数据汇总"
   ]
  },
  {
   "cell_type": "code",
   "execution_count": 44,
   "metadata": {},
   "outputs": [],
   "source": [
    "import pandas as pd\n",
    "import numpy as np"
   ]
  },
  {
   "cell_type": "code",
   "execution_count": null,
   "metadata": {},
   "outputs": [],
   "source": [
    "课程ID 、课程名称、年级、科目、课程介绍、内容标签、链接\n",
    "这里好像只有数学的才是按照年级去分类的，但是别的科目并没有按照这个方式去分类\n",
    "或者就是主要是数学、科学、计算机、语文（humanities）"
   ]
  },
  {
   "cell_type": "code",
   "execution_count": 110,
   "metadata": {},
   "outputs": [],
   "source": [
    "All_data = pd.read_excel('Save_Excel.xlsx','page_1',index_col=0)\n",
    "tab_data = pd.read_excel('Save_Excel.xlsx','level',index_col=0)"
   ]
  },
  {
   "cell_type": "code",
   "execution_count": 111,
   "metadata": {
    "scrolled": true
   },
   "outputs": [],
   "source": [
    "# 取出需要的几个主要学科\n",
    "subject = ['math','science','computing','humanities']"
   ]
  },
  {
   "cell_type": "code",
   "execution_count": 112,
   "metadata": {},
   "outputs": [],
   "source": [
    "all_final_data = []\n",
    "for one_s in subject:\n",
    "    one_s_data = All_data.loc[All_data[one_s]==1].replace(0,np.NAN).dropna(axis=1,how='all')\n",
    "    one_s_data = one_s_data.drop([one_s],axis=1)\n",
    "    for i in one_s_data.index:\n",
    "        one_fina_s = []\n",
    "        one_c = one_s_data.loc[i]\n",
    "        content_label = list(one_c[1:-1][one_c[1:-1]==1].index)\n",
    "        content_label = ','.join(content_label)\n",
    "        one_fina_s.append([one_c['course'],'all',one_s,content_label,'null',one_c['website']])\n",
    "        all_final_data.extend(one_fina_s)"
   ]
  },
  {
   "cell_type": "code",
   "execution_count": 113,
   "metadata": {},
   "outputs": [
    {
     "data": {
      "text/html": [
       "<div>\n",
       "<style scoped>\n",
       "    .dataframe tbody tr th:only-of-type {\n",
       "        vertical-align: middle;\n",
       "    }\n",
       "\n",
       "    .dataframe tbody tr th {\n",
       "        vertical-align: top;\n",
       "    }\n",
       "\n",
       "    .dataframe thead th {\n",
       "        text-align: right;\n",
       "    }\n",
       "</style>\n",
       "<table border=\"1\" class=\"dataframe\">\n",
       "  <thead>\n",
       "    <tr style=\"text-align: right;\">\n",
       "      <th></th>\n",
       "      <th>course_name</th>\n",
       "      <th>course_garde</th>\n",
       "      <th>subject</th>\n",
       "      <th>content_label</th>\n",
       "      <th>course_introduction</th>\n",
       "      <th>course_url</th>\n",
       "    </tr>\n",
       "  </thead>\n",
       "  <tbody>\n",
       "    <tr>\n",
       "      <th>0</th>\n",
       "      <td>Counting</td>\n",
       "      <td>all</td>\n",
       "      <td>math</td>\n",
       "      <td>early-math</td>\n",
       "      <td>null</td>\n",
       "      <td>https://www.khanacademy.org/math/early-math/cc...</td>\n",
       "    </tr>\n",
       "    <tr>\n",
       "      <th>1</th>\n",
       "      <td>Addition and subtraction intro</td>\n",
       "      <td>all</td>\n",
       "      <td>math</td>\n",
       "      <td>early-math</td>\n",
       "      <td>null</td>\n",
       "      <td>https://www.khanacademy.org/math/early-math/cc...</td>\n",
       "    </tr>\n",
       "    <tr>\n",
       "      <th>2</th>\n",
       "      <td>Place value (tens and hundreds)</td>\n",
       "      <td>all</td>\n",
       "      <td>math</td>\n",
       "      <td>early-math</td>\n",
       "      <td>null</td>\n",
       "      <td>https://www.khanacademy.org/math/early-math/cc...</td>\n",
       "    </tr>\n",
       "    <tr>\n",
       "      <th>3</th>\n",
       "      <td>Addition and subtraction within 20</td>\n",
       "      <td>all</td>\n",
       "      <td>math</td>\n",
       "      <td>early-math</td>\n",
       "      <td>null</td>\n",
       "      <td>https://www.khanacademy.org/math/early-math/cc...</td>\n",
       "    </tr>\n",
       "    <tr>\n",
       "      <th>4</th>\n",
       "      <td>Addition and subtraction within 100</td>\n",
       "      <td>all</td>\n",
       "      <td>math</td>\n",
       "      <td>early-math</td>\n",
       "      <td>null</td>\n",
       "      <td>https://www.khanacademy.org/math/early-math/cc...</td>\n",
       "    </tr>\n",
       "  </tbody>\n",
       "</table>\n",
       "</div>"
      ],
      "text/plain": [
       "                           course_name course_garde subject content_label  \\\n",
       "0                             Counting          all    math    early-math   \n",
       "1       Addition and subtraction intro          all    math    early-math   \n",
       "2      Place value (tens and hundreds)          all    math    early-math   \n",
       "3   Addition and subtraction within 20          all    math    early-math   \n",
       "4  Addition and subtraction within 100          all    math    early-math   \n",
       "\n",
       "  course_introduction                                         course_url  \n",
       "0                null  https://www.khanacademy.org/math/early-math/cc...  \n",
       "1                null  https://www.khanacademy.org/math/early-math/cc...  \n",
       "2                null  https://www.khanacademy.org/math/early-math/cc...  \n",
       "3                null  https://www.khanacademy.org/math/early-math/cc...  \n",
       "4                null  https://www.khanacademy.org/math/early-math/cc...  "
      ]
     },
     "execution_count": 113,
     "metadata": {},
     "output_type": "execute_result"
    }
   ],
   "source": [
    "final_data = pd.DataFrame(all_final_data,columns=['course_name','course_garde','subject','content_label','course_introduction','course_url'])\n",
    "final_data.head()"
   ]
  },
  {
   "cell_type": "code",
   "execution_count": 114,
   "metadata": {
    "scrolled": true
   },
   "outputs": [
    {
     "data": {
      "text/plain": [
       "biology                            30\n",
       "health-and-medicine                22\n",
       "physics                            20\n",
       "chemistry                          16\n",
       "art-history                        16\n",
       "statistics-probability             16\n",
       "algebra                            15\n",
       "cc-fifth-grade-math                14\n",
       "organic-chemistry                  13\n",
       "cc-third-grade-math                13\n",
       "algebra2                           13\n",
       "ap-us-history,us-history           11\n",
       "ap-art-history                     11\n",
       "cc-fourth-grade-math               11\n",
       "grammar                            10\n",
       "us-history                         10\n",
       "ap-calculus-ab                     10\n",
       "electrical-engineering              9\n",
       "us-government-and-civics            9\n",
       "pre-algebra                         9\n",
       "high-school-biology                 8\n",
       "computer-programming                8\n",
       "ap-biology                          8\n",
       "high-school-math                    8\n",
       "geometry                            8\n",
       "early-math                          8\n",
       "ap-computer-science-principles      7\n",
       "ap-statistics                       7\n",
       "precalculus                         7\n",
       "ap-physics-1,physics                7\n",
       "world-history                       6\n",
       "cc-seventh-grade-math               6\n",
       "cc-sixth-grade-math                 6\n",
       "arithmetic                          5\n",
       "trigonometry                        5\n",
       "cc-eighth-grade-math                5\n",
       "multivariable-calculus              5\n",
       "computer-science                    4\n",
       "ap-calculus-bc                      4\n",
       "cosmology-and-astronomy,physics     4\n",
       "ap-chemistry-beta,chemistry         3\n",
       "illustrative-math                   3\n",
       "differential-equations              3\n",
       "linear-algebra                      3\n",
       "hass-storytelling                   2\n",
       "engageny                            2\n",
       "ap-us-government-and-politics       2\n",
       "cc-1st-grade-math                   2\n",
       "cc-kindergarten-math                2\n",
       "ap-world-history                    2\n",
       "ap-chemistry,chemistry              2\n",
       "Name: content_label, dtype: int64"
      ]
     },
     "execution_count": 114,
     "metadata": {},
     "output_type": "execute_result"
    }
   ],
   "source": [
    "final_data['content_label'].value_counts()"
   ]
  },
  {
   "cell_type": "markdown",
   "metadata": {},
   "source": [
    "# IXL的数据汇总"
   ]
  },
  {
   "cell_type": "code",
   "execution_count": 117,
   "metadata": {},
   "outputs": [],
   "source": [
    "ixl_All_data = pd.read_excel('ixl.xlsx','ixl',index_col=0)"
   ]
  },
  {
   "cell_type": "code",
   "execution_count": 118,
   "metadata": {},
   "outputs": [
    {
     "data": {
      "text/plain": [
       "Fifth grade math      442\n",
       "Third grade math      403\n",
       "Sixth grade math      387\n",
       "Fourth grade math     374\n",
       "Seventh grade math    355\n",
       "Eighth grade math     347\n",
       "Algebra 1             341\n",
       "Algebra 2             338\n",
       "Second grade math     307\n",
       "Precalculus           271\n",
       "First grade math      254\n",
       "Geometry              252\n",
       "Kindergarten math     228\n",
       "Calculus               98\n",
       "Pre-K math             91\n",
       "Name: gaede-subject, dtype: int64"
      ]
     },
     "execution_count": 118,
     "metadata": {},
     "output_type": "execute_result"
    }
   ],
   "source": [
    "ixl_All_data['gaede-subject'].value_counts()"
   ]
  },
  {
   "cell_type": "code",
   "execution_count": 126,
   "metadata": {},
   "outputs": [],
   "source": [
    "fina_ixl_data = ixl_All_data[ixl_All_data.columns[1:]]\n",
    "fina_ixl_data.columns = ['course_garde','content_label','course_name','course_url']"
   ]
  },
  {
   "cell_type": "code",
   "execution_count": 129,
   "metadata": {},
   "outputs": [
    {
     "data": {
      "text/html": [
       "<div>\n",
       "<style scoped>\n",
       "    .dataframe tbody tr th:only-of-type {\n",
       "        vertical-align: middle;\n",
       "    }\n",
       "\n",
       "    .dataframe tbody tr th {\n",
       "        vertical-align: top;\n",
       "    }\n",
       "\n",
       "    .dataframe thead th {\n",
       "        text-align: right;\n",
       "    }\n",
       "</style>\n",
       "<table border=\"1\" class=\"dataframe\">\n",
       "  <thead>\n",
       "    <tr style=\"text-align: right;\">\n",
       "      <th></th>\n",
       "      <th>course_garde</th>\n",
       "      <th>content_label</th>\n",
       "      <th>course_name</th>\n",
       "      <th>course_url</th>\n",
       "      <th>subject</th>\n",
       "    </tr>\n",
       "    <tr>\n",
       "      <th>id</th>\n",
       "      <th></th>\n",
       "      <th></th>\n",
       "      <th></th>\n",
       "      <th></th>\n",
       "      <th></th>\n",
       "    </tr>\n",
       "  </thead>\n",
       "  <tbody>\n",
       "    <tr>\n",
       "      <th>547</th>\n",
       "      <td>Pre-K math</td>\n",
       "      <td>Numbers and counting up to 3</td>\n",
       "      <td>Count dots - up to 3</td>\n",
       "      <td>https://www.ixl.com/math/pre-k/count-dots-up-to-3</td>\n",
       "      <td>math</td>\n",
       "    </tr>\n",
       "    <tr>\n",
       "      <th>548</th>\n",
       "      <td>Pre-K math</td>\n",
       "      <td>Numbers and counting up to 3</td>\n",
       "      <td>Learn to count - up to 3</td>\n",
       "      <td>https://www.ixl.com/math/pre-k/learn-to-count-...</td>\n",
       "      <td>math</td>\n",
       "    </tr>\n",
       "    <tr>\n",
       "      <th>549</th>\n",
       "      <td>Pre-K math</td>\n",
       "      <td>Numbers and counting up to 3</td>\n",
       "      <td>Count pictures - up to 3</td>\n",
       "      <td>https://www.ixl.com/math/pre-k/count-pictures-...</td>\n",
       "      <td>math</td>\n",
       "    </tr>\n",
       "    <tr>\n",
       "      <th>550</th>\n",
       "      <td>Pre-K math</td>\n",
       "      <td>Numbers and counting up to 3</td>\n",
       "      <td>Identify numbers - up to 3</td>\n",
       "      <td>https://www.ixl.com/math/pre-k/identify-number...</td>\n",
       "      <td>math</td>\n",
       "    </tr>\n",
       "    <tr>\n",
       "      <th>551</th>\n",
       "      <td>Pre-K math</td>\n",
       "      <td>Numbers and counting up to 3</td>\n",
       "      <td>Count shapes - up to 3</td>\n",
       "      <td>https://www.ixl.com/math/pre-k/count-shapes-up...</td>\n",
       "      <td>math</td>\n",
       "    </tr>\n",
       "  </tbody>\n",
       "</table>\n",
       "</div>"
      ],
      "text/plain": [
       "    course_garde                 content_label                 course_name  \\\n",
       "id                                                                           \n",
       "547   Pre-K math  Numbers and counting up to 3        Count dots - up to 3   \n",
       "548   Pre-K math  Numbers and counting up to 3    Learn to count - up to 3   \n",
       "549   Pre-K math  Numbers and counting up to 3    Count pictures - up to 3   \n",
       "550   Pre-K math  Numbers and counting up to 3  Identify numbers - up to 3   \n",
       "551   Pre-K math  Numbers and counting up to 3      Count shapes - up to 3   \n",
       "\n",
       "                                            course_url subject  \n",
       "id                                                              \n",
       "547  https://www.ixl.com/math/pre-k/count-dots-up-to-3    math  \n",
       "548  https://www.ixl.com/math/pre-k/learn-to-count-...    math  \n",
       "549  https://www.ixl.com/math/pre-k/count-pictures-...    math  \n",
       "550  https://www.ixl.com/math/pre-k/identify-number...    math  \n",
       "551  https://www.ixl.com/math/pre-k/count-shapes-up...    math  "
      ]
     },
     "execution_count": 129,
     "metadata": {},
     "output_type": "execute_result"
    }
   ],
   "source": [
    "fina_ixl_data['subject'] = 'math'\n",
    "fina_ixl_data.head()"
   ]
  },
  {
   "cell_type": "code",
   "execution_count": 131,
   "metadata": {},
   "outputs": [],
   "source": [
    "final_data = final_data.append(fina_ixl_data)"
   ]
  },
  {
   "cell_type": "code",
   "execution_count": 132,
   "metadata": {},
   "outputs": [
    {
     "name": "stderr",
     "output_type": "stream",
     "text": [
      "c:\\users\\xingy\\appdata\\local\\programs\\python\\python36\\lib\\site-packages\\ipykernel_launcher.py:1: UserWarning: Pandas doesn't allow columns to be created via a new attribute name - see https://pandas.pydata.org/pandas-docs/stable/indexing.html#attribute-access\n",
      "  \"\"\"Entry point for launching an IPython kernel.\n"
     ]
    }
   ],
   "source": [
    "final_data.idnex = list(range(len(final_data)))"
   ]
  },
  {
   "cell_type": "code",
   "execution_count": 134,
   "metadata": {},
   "outputs": [
    {
     "data": {
      "text/plain": [
       "4918"
      ]
     },
     "execution_count": 134,
     "metadata": {},
     "output_type": "execute_result"
    }
   ],
   "source": [
    "len(final_data)"
   ]
  },
  {
   "cell_type": "code",
   "execution_count": 133,
   "metadata": {},
   "outputs": [
    {
     "data": {
      "text/html": [
       "<div>\n",
       "<style scoped>\n",
       "    .dataframe tbody tr th:only-of-type {\n",
       "        vertical-align: middle;\n",
       "    }\n",
       "\n",
       "    .dataframe tbody tr th {\n",
       "        vertical-align: top;\n",
       "    }\n",
       "\n",
       "    .dataframe thead th {\n",
       "        text-align: right;\n",
       "    }\n",
       "</style>\n",
       "<table border=\"1\" class=\"dataframe\">\n",
       "  <thead>\n",
       "    <tr style=\"text-align: right;\">\n",
       "      <th></th>\n",
       "      <th>course_name</th>\n",
       "      <th>course_garde</th>\n",
       "      <th>subject</th>\n",
       "      <th>content_label</th>\n",
       "      <th>course_introduction</th>\n",
       "      <th>course_url</th>\n",
       "    </tr>\n",
       "  </thead>\n",
       "  <tbody>\n",
       "    <tr>\n",
       "      <th>0</th>\n",
       "      <td>Counting</td>\n",
       "      <td>all</td>\n",
       "      <td>math</td>\n",
       "      <td>early-math</td>\n",
       "      <td>null</td>\n",
       "      <td>https://www.khanacademy.org/math/early-math/cc...</td>\n",
       "    </tr>\n",
       "    <tr>\n",
       "      <th>1</th>\n",
       "      <td>Addition and subtraction intro</td>\n",
       "      <td>all</td>\n",
       "      <td>math</td>\n",
       "      <td>early-math</td>\n",
       "      <td>null</td>\n",
       "      <td>https://www.khanacademy.org/math/early-math/cc...</td>\n",
       "    </tr>\n",
       "    <tr>\n",
       "      <th>2</th>\n",
       "      <td>Place value (tens and hundreds)</td>\n",
       "      <td>all</td>\n",
       "      <td>math</td>\n",
       "      <td>early-math</td>\n",
       "      <td>null</td>\n",
       "      <td>https://www.khanacademy.org/math/early-math/cc...</td>\n",
       "    </tr>\n",
       "    <tr>\n",
       "      <th>3</th>\n",
       "      <td>Addition and subtraction within 20</td>\n",
       "      <td>all</td>\n",
       "      <td>math</td>\n",
       "      <td>early-math</td>\n",
       "      <td>null</td>\n",
       "      <td>https://www.khanacademy.org/math/early-math/cc...</td>\n",
       "    </tr>\n",
       "    <tr>\n",
       "      <th>4</th>\n",
       "      <td>Addition and subtraction within 100</td>\n",
       "      <td>all</td>\n",
       "      <td>math</td>\n",
       "      <td>early-math</td>\n",
       "      <td>null</td>\n",
       "      <td>https://www.khanacademy.org/math/early-math/cc...</td>\n",
       "    </tr>\n",
       "    <tr>\n",
       "      <th>...</th>\n",
       "      <td>...</td>\n",
       "      <td>...</td>\n",
       "      <td>...</td>\n",
       "      <td>...</td>\n",
       "      <td>...</td>\n",
       "      <td>...</td>\n",
       "    </tr>\n",
       "    <tr>\n",
       "      <th>5030</th>\n",
       "      <td>Find confidence intervals for population means</td>\n",
       "      <td>Precalculus</td>\n",
       "      <td>math</td>\n",
       "      <td>Statistics</td>\n",
       "      <td>NaN</td>\n",
       "      <td>https://www.ixl.com/math/precalculus/find-conf...</td>\n",
       "    </tr>\n",
       "    <tr>\n",
       "      <th>5031</th>\n",
       "      <td>Find confidence intervals for population propo...</td>\n",
       "      <td>Precalculus</td>\n",
       "      <td>math</td>\n",
       "      <td>Statistics</td>\n",
       "      <td>NaN</td>\n",
       "      <td>https://www.ixl.com/math/precalculus/find-conf...</td>\n",
       "    </tr>\n",
       "    <tr>\n",
       "      <th>5032</th>\n",
       "      <td>Interpret confidence intervals for population ...</td>\n",
       "      <td>Precalculus</td>\n",
       "      <td>math</td>\n",
       "      <td>Statistics</td>\n",
       "      <td>NaN</td>\n",
       "      <td>https://www.ixl.com/math/precalculus/interpret...</td>\n",
       "    </tr>\n",
       "    <tr>\n",
       "      <th>5033</th>\n",
       "      <td>Experiment design</td>\n",
       "      <td>Precalculus</td>\n",
       "      <td>math</td>\n",
       "      <td>Statistics</td>\n",
       "      <td>NaN</td>\n",
       "      <td>https://www.ixl.com/math/precalculus/experimen...</td>\n",
       "    </tr>\n",
       "    <tr>\n",
       "      <th>5034</th>\n",
       "      <td>Analyze the results of an experiment using sim...</td>\n",
       "      <td>Precalculus</td>\n",
       "      <td>math</td>\n",
       "      <td>Statistics</td>\n",
       "      <td>NaN</td>\n",
       "      <td>https://www.ixl.com/math/precalculus/analyze-t...</td>\n",
       "    </tr>\n",
       "  </tbody>\n",
       "</table>\n",
       "<p>4918 rows × 6 columns</p>\n",
       "</div>"
      ],
      "text/plain": [
       "                                            course_name course_garde subject  \\\n",
       "0                                              Counting          all    math   \n",
       "1                        Addition and subtraction intro          all    math   \n",
       "2                       Place value (tens and hundreds)          all    math   \n",
       "3                    Addition and subtraction within 20          all    math   \n",
       "4                   Addition and subtraction within 100          all    math   \n",
       "...                                                 ...          ...     ...   \n",
       "5030     Find confidence intervals for population means  Precalculus    math   \n",
       "5031  Find confidence intervals for population propo...  Precalculus    math   \n",
       "5032  Interpret confidence intervals for population ...  Precalculus    math   \n",
       "5033                                  Experiment design  Precalculus    math   \n",
       "5034  Analyze the results of an experiment using sim...  Precalculus    math   \n",
       "\n",
       "     content_label course_introduction  \\\n",
       "0       early-math                null   \n",
       "1       early-math                null   \n",
       "2       early-math                null   \n",
       "3       early-math                null   \n",
       "4       early-math                null   \n",
       "...            ...                 ...   \n",
       "5030    Statistics                 NaN   \n",
       "5031    Statistics                 NaN   \n",
       "5032    Statistics                 NaN   \n",
       "5033    Statistics                 NaN   \n",
       "5034    Statistics                 NaN   \n",
       "\n",
       "                                             course_url  \n",
       "0     https://www.khanacademy.org/math/early-math/cc...  \n",
       "1     https://www.khanacademy.org/math/early-math/cc...  \n",
       "2     https://www.khanacademy.org/math/early-math/cc...  \n",
       "3     https://www.khanacademy.org/math/early-math/cc...  \n",
       "4     https://www.khanacademy.org/math/early-math/cc...  \n",
       "...                                                 ...  \n",
       "5030  https://www.ixl.com/math/precalculus/find-conf...  \n",
       "5031  https://www.ixl.com/math/precalculus/find-conf...  \n",
       "5032  https://www.ixl.com/math/precalculus/interpret...  \n",
       "5033  https://www.ixl.com/math/precalculus/experimen...  \n",
       "5034  https://www.ixl.com/math/precalculus/analyze-t...  \n",
       "\n",
       "[4918 rows x 6 columns]"
      ]
     },
     "execution_count": 133,
     "metadata": {},
     "output_type": "execute_result"
    }
   ],
   "source": [
    "final_data"
   ]
  },
  {
   "cell_type": "code",
   "execution_count": 136,
   "metadata": {},
   "outputs": [],
   "source": [
    "final_data.to_excel('所有数据.xlsx')"
   ]
  }
 ],
 "metadata": {
  "kernelspec": {
   "display_name": "Python 3",
   "language": "python",
   "name": "python3"
  },
  "language_info": {
   "codemirror_mode": {
    "name": "ipython",
    "version": 3
   },
   "file_extension": ".py",
   "mimetype": "text/x-python",
   "name": "python",
   "nbconvert_exporter": "python",
   "pygments_lexer": "ipython3",
   "version": "3.6.4"
  }
 },
 "nbformat": 4,
 "nbformat_minor": 4
}
